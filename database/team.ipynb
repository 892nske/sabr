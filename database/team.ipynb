{
 "cells": [
  {
   "cell_type": "code",
   "execution_count": 1,
   "id": "2c8009f1-cd7d-42ed-a882-f0b5e9af6103",
   "metadata": {
    "tags": []
   },
   "outputs": [],
   "source": [
    "import pandas as pd"
   ]
  },
  {
   "cell_type": "code",
   "execution_count": 3,
   "id": "52bb91fa-1796-4024-8764-1e67c186cd59",
   "metadata": {},
   "outputs": [],
   "source": [
    "teams = pd.DataFrame([[1, 'ヤクルト']\n",
    "                   , [2, '巨人']\n",
    "                  , [3, '中日']\n",
    "                  , [4, '阪神']\n",
    "                  , [5, '広島']\n",
    "                  , [6, '横浜']\n",
    "                  , [7, '松竹']\n",
    "                  , [8, '西日本']\n",
    "                  , [9, 'オリックス']\n",
    "                  , [10, 'ソフトバンク']\n",
    "                  , [11, '西武']\n",
    "                  , [12, 'ロッテ']\n",
    "                  , [13, '日ハム']\n",
    "                  , [14, '楽天']\n",
    "                  , [15, '近鉄']\n",
    "                  , [16, 'ユニオンズ']\n",
    "                  , [17, '大映']]\n",
    "                  , columns=[\"team_id\", \"represent_team_name\"])"
   ]
  },
  {
   "cell_type": "code",
   "execution_count": 5,
   "id": "96435e3f-43de-40c3-ab3d-b741875c2b93",
   "metadata": {
    "tags": []
   },
   "outputs": [],
   "source": [
    "teams.to_csv('output/teams_output.csv', index=False)"
   ]
  },
  {
   "cell_type": "code",
   "execution_count": null,
   "id": "b1fa0476-e799-4631-95d6-1805369316d1",
   "metadata": {},
   "outputs": [],
   "source": []
  }
 ],
 "metadata": {
  "kernelspec": {
   "display_name": "default:Python",
   "language": "python",
   "name": "conda-env-default-py"
  },
  "language_info": {
   "codemirror_mode": {
    "name": "ipython",
    "version": 3
   },
   "file_extension": ".py",
   "mimetype": "text/x-python",
   "name": "python",
   "nbconvert_exporter": "python",
   "pygments_lexer": "ipython3",
   "version": "3.9.16"
  }
 },
 "nbformat": 4,
 "nbformat_minor": 5
}
