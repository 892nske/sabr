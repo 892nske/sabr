{
 "cells": [
  {
   "cell_type": "code",
   "execution_count": 3,
   "id": "484382aa-659b-4279-90a1-d849f7de1d82",
   "metadata": {
    "tags": []
   },
   "outputs": [
    {
     "name": "stdout",
     "output_type": "stream",
     "text": [
      "--- ユニークなチーム名のリスト ---\n",
      "アトムズ\n",
      "サンケイアトムズ\n",
      "サンケイスワローズ\n",
      "ヤクルトアトムズ\n",
      "ヤクルトスワローズ\n",
      "中日ドラゴンズ\n",
      "名古屋ドラゴンズ\n",
      "国鉄スワローズ\n",
      "大洋ホエールズ\n",
      "大洋松竹ロビンス\n",
      "大阪タイガース\n",
      "広島カープ\n",
      "広島東洋カープ\n",
      "松竹ロビンス\n",
      "横浜大洋ホエールズ\n",
      "西日本パイレーツ\n",
      "読売ジャイアンツ\n",
      "阪神タイガース\n"
     ]
    }
   ],
   "source": [
    "import csv\n",
    "import os\n",
    "\n",
    "# CSVファイルが保存されているディレクトリのパスを設定してください\n",
    "csv_directory = 'data'  # ここを実際のパスに変更\n",
    "\n",
    "# チーム名を格納するセット（重複を排除）\n",
    "unique_team_names = set()\n",
    "\n",
    "# ディレクトリ内のすべてのCSVファイルを処理\n",
    "for filename in os.listdir(csv_directory):\n",
    "    if filename.endswith('central.csv'):\n",
    "        csv_path = os.path.join(csv_directory, filename)\n",
    "        with open(csv_path, 'r', encoding='utf-8') as csvfile:\n",
    "            reader = csv.DictReader(csvfile)\n",
    "            for row in reader:\n",
    "                team_name = row['チーム'].strip()\n",
    "                unique_team_names.add(team_name)\n",
    "\n",
    "# ユニークなチーム名のリストをソート\n",
    "sorted_team_names = sorted(unique_team_names)\n",
    "\n",
    "# 結果を出力\n",
    "print('--- ユニークなチーム名のリスト ---')\n",
    "for team_name in sorted_team_names:\n",
    "    print(team_name)\n"
   ]
  },
  {
   "cell_type": "code",
   "execution_count": 5,
   "id": "699abfb9-989f-4c69-8ded-d222ed003910",
   "metadata": {
    "tags": []
   },
   "outputs": [
    {
     "name": "stdout",
     "output_type": "stream",
     "text": [
      "--- ユニークなチーム名のリスト ---\n",
      "オリックス・バファローズ\n",
      "オリックス・ブルーウェーブ\n",
      "オリックス・ブレーブス\n",
      "クラウンライター・ライオンズ\n",
      "トンボユニオンズ\n",
      "ロッテ・オリオンズ\n",
      "北海道日本ハムファイターズ\n",
      "千葉ロッテマリーンズ\n",
      "南海ホークス\n",
      "埼玉西武ライオンズ\n",
      "大映スターズ\n",
      "大映ユニオンズ\n",
      "大阪近鉄バファローズ\n",
      "太平洋クラブ・ライオンズ\n",
      "日拓ホーム・フライヤーズ\n",
      "日本ハム・ファイターズ\n",
      "東京オリオンズ\n",
      "東北楽天ゴールデンイーグルス\n",
      "東急フライヤーズ\n",
      "東映フライヤーズ\n",
      "毎日オリオンズ\n",
      "毎日大映オリオンズ\n",
      "福岡ソフトバンクホークス\n",
      "福岡ダイエーホークス\n",
      "西武ライオンズ\n",
      "西鉄クリッパース\n",
      "西鉄ライオンズ\n",
      "近鉄バファロー\n",
      "近鉄バファローズ\n",
      "近鉄パールス\n",
      "阪急ブレーブス\n",
      "高橋ユニオンズ\n"
     ]
    }
   ],
   "source": [
    "# チーム名を格納するセット（重複を排除）\n",
    "unique_team_names = set()\n",
    "\n",
    "# ディレクトリ内のすべてのCSVファイルを処理\n",
    "for filename in os.listdir(csv_directory):\n",
    "    if filename.endswith('pacific.csv'):\n",
    "        csv_path = os.path.join(csv_directory, filename)\n",
    "        with open(csv_path, 'r', encoding='utf-8') as csvfile:\n",
    "            reader = csv.DictReader(csvfile)\n",
    "            for row in reader:\n",
    "                team_name = row['チーム'].strip()\n",
    "                unique_team_names.add(team_name)\n",
    "\n",
    "# ユニークなチーム名のリストをソート\n",
    "sorted_team_names = sorted(unique_team_names)\n",
    "\n",
    "# 結果を出力\n",
    "print('--- ユニークなチーム名のリスト ---')\n",
    "for team_name in sorted_team_names:\n",
    "    print(team_name)"
   ]
  },
  {
   "cell_type": "code",
   "execution_count": null,
   "id": "0e3d5bd2-c20e-4d41-8d17-c74b06f0046b",
   "metadata": {},
   "outputs": [],
   "source": []
  }
 ],
 "metadata": {
  "kernelspec": {
   "display_name": "Python 3 (ipykernel)",
   "language": "python",
   "name": "python3"
  },
  "language_info": {
   "codemirror_mode": {
    "name": "ipython",
    "version": 3
   },
   "file_extension": ".py",
   "mimetype": "text/x-python",
   "name": "python",
   "nbconvert_exporter": "python",
   "pygments_lexer": "ipython3",
   "version": "3.8.12"
  }
 },
 "nbformat": 4,
 "nbformat_minor": 5
}
