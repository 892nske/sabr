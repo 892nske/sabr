{
 "cells": [
  {
   "cell_type": "code",
   "execution_count": 1,
   "metadata": {},
   "outputs": [],
   "source": [
    "import requests\n",
    "from bs4 import BeautifulSoup\n",
    "import csv"
   ]
  },
  {
   "cell_type": "code",
   "execution_count": 2,
   "metadata": {},
   "outputs": [],
   "source": [
    "url = 'https://baseball-data.com/17/team/standings.html'\n",
    "html = requests.get(url)\n",
    "soup = BeautifulSoup(html.text,'html.parser')"
   ]
  },
  {
   "cell_type": "code",
   "execution_count": 7,
   "metadata": {},
   "outputs": [],
   "source": [
    "t1 = soup.find_all(\"table\")[0]"
   ]
  },
  {
   "cell_type": "code",
   "execution_count": 10,
   "metadata": {},
   "outputs": [],
   "source": [
    "r1 = t1.findAll('tr')"
   ]
  },
  {
   "cell_type": "code",
   "execution_count": 31,
   "metadata": {},
   "outputs": [],
   "source": [
    "import pandas as pd\n",
    "import time"
   ]
  },
  {
   "cell_type": "code",
   "execution_count": 13,
   "metadata": {},
   "outputs": [],
   "source": [
    "lst = pd.read_html(url, flavor='bs4')"
   ]
  },
  {
   "cell_type": "code",
   "execution_count": 14,
   "metadata": {},
   "outputs": [],
   "source": [
    "t1 = lst[0]"
   ]
  },
  {
   "cell_type": "code",
   "execution_count": 28,
   "metadata": {},
   "outputs": [],
   "source": [
    "url_base = 'https://baseball-data.com/{year}/team/standings.html'\n",
    "filename_base = 'table_{year}_{league}.csv'"
   ]
  },
  {
   "cell_type": "code",
   "execution_count": 26,
   "metadata": {},
   "outputs": [
    {
     "name": "stdout",
     "output_type": "stream",
     "text": [
      "https://baseball-data.com/11/team/standings.html\n",
      "https://baseball-data.com/12/team/standings.html\n",
      "https://baseball-data.com/13/team/standings.html\n",
      "https://baseball-data.com/14/team/standings.html\n",
      "https://baseball-data.com/15/team/standings.html\n",
      "https://baseball-data.com/16/team/standings.html\n",
      "https://baseball-data.com/17/team/standings.html\n",
      "https://baseball-data.com/18/team/standings.html\n",
      "https://baseball-data.com/19/team/standings.html\n",
      "https://baseball-data.com/20/team/standings.html\n",
      "https://baseball-data.com/21/team/standings.html\n",
      "https://baseball-data.com/22/team/standings.html\n",
      "https://baseball-data.com/23/team/standings.html\n",
      "https://baseball-data.com/24/team/standings.html\n",
      "https://baseball-data.com/25/team/standings.html\n",
      "https://baseball-data.com/26/team/standings.html\n",
      "https://baseball-data.com/27/team/standings.html\n",
      "https://baseball-data.com/28/team/standings.html\n",
      "https://baseball-data.com/29/team/standings.html\n",
      "https://baseball-data.com/30/team/standings.html\n"
     ]
    }
   ],
   "source": [
    "for y in range(20):\n",
    "    url = url_base.format(year=y+11)\n",
    "    print(url)\n",
    "    lst = pd.read_html(url, flavor='bs4')"
   ]
  },
  {
   "cell_type": "code",
   "execution_count": 51,
   "metadata": {},
   "outputs": [],
   "source": [
    "for y in range(10):\n",
    "    year = y + 11\n",
    "    url = url_base.format(year=year)\n",
    "    \n",
    "    # テーブルを抽出\n",
    "    lst = pd.read_html(url, flavor='bs4')\n",
    "    \n",
    "    # セ・リーグ\n",
    "    table = lst[0]\n",
    "    filename = filename_base.format(year=year+2000,league='s')\n",
    "    table.to_csv('./data/'+filename)\n",
    "    \n",
    "    # パ・リーグ\n",
    "    table = lst[1]\n",
    "    filename = filename_base.format(year=year+2000,league='p')\n",
    "    table.to_csv('./data/'+filename)\n",
    "    \n",
    "    time.sleep(1)"
   ]
  },
  {
   "cell_type": "code",
   "execution_count": 52,
   "metadata": {},
   "outputs": [],
   "source": [
    "d1 = pd.read_csv('./data/table_2011_s.csv',index_col=0)\n",
    "d2 = pd.read_csv('./data/table_2011_p.csv',index_col=0)"
   ]
  },
  {
   "cell_type": "code",
   "execution_count": 53,
   "metadata": {},
   "outputs": [],
   "source": [
    "d1['ptg']=d1['得点']**2/(d1['得点']**2+d1['失点']**2)\n",
    "d2['ptg']=d2['得点']**2/(d2['得点']**2+d2['失点']**2)"
   ]
  },
  {
   "cell_type": "code",
   "execution_count": 54,
   "metadata": {},
   "outputs": [],
   "source": [
    "d1 = d1.drop(columns=['順位','試合','勝利','敗北','引分','差','首位差','残試合','貯金','連勝連敗','得点','平均得点','失点','平均失点','得失点差','打率','本塁打','盗塁','防御率'])"
   ]
  },
  {
   "cell_type": "code",
   "execution_count": 55,
   "metadata": {},
   "outputs": [],
   "source": [
    "d2 = d2.drop(columns=['順位','試合','勝利','敗北','引分','差','首位差','残試合','貯金','連勝連敗','得点','平均得点','失点','平均失点','得失点差','打率','本塁打','盗塁','防御率'])"
   ]
  },
  {
   "cell_type": "code",
   "execution_count": 57,
   "metadata": {},
   "outputs": [],
   "source": [
    "d1['year'] = 2011\n",
    "d2['year'] = 2011"
   ]
  },
  {
   "cell_type": "code",
   "execution_count": 58,
   "metadata": {},
   "outputs": [],
   "source": [
    "dc = pd.concat([d1,d2])"
   ]
  },
  {
   "cell_type": "code",
   "execution_count": 121,
   "metadata": {},
   "outputs": [],
   "source": [
    "colors = pd.DataFrame({'チーム':['巨人','阪神','中日','横浜','広島','ヤクルト','ソフトバンク','ロッテ','西武','楽天','日本ハム','オリックス'],'color':['#FF7820','#FFE100','#003595','#0052CD','#E50012','#96c800','#FBC700','#000000','#2C9FE8','#870010','#C8B88C','#9E751E']})"
   ]
  },
  {
   "cell_type": "code",
   "execution_count": 87,
   "metadata": {},
   "outputs": [],
   "source": [
    "df = pd.DataFrame(index=[], columns=['チーム','勝率','ptg','year'])\n",
    "\n",
    "for y in range(10):\n",
    "    year = y + 11\n",
    "    \n",
    "    # セ・リーグ\n",
    "    filename = filename_base.format(year=year+2000,league='s')\n",
    "    d1 = pd.read_csv('./data/'+filename, index_col=0)\n",
    "    d1['ptg']=d1['得点']**2/(d1['得点']**2+d1['失点']**2)\n",
    "    d1 = d1.drop(columns=['順位','試合','勝利','敗北','引分','差','首位差','残試合','貯金','連勝連敗','得点','平均得点','失点','平均失点','得失点差','打率','本塁打','盗塁','防御率'])\n",
    "    d1['year'] = year+2000\n",
    "    df = pd.concat([df,d1])\n",
    "    \n",
    "    # パ・リーグ\n",
    "    filename = filename_base.format(year=year+2000,league='p')\n",
    "    d1 = pd.read_csv('./data/'+filename, index_col=0)\n",
    "    d1['ptg']=d1['得点']**2/(d1['得点']**2+d1['失点']**2)\n",
    "    d1 = d1.drop(columns=['順位','試合','勝利','敗北','引分','差','首位差','残試合','貯金','連勝連敗','得点','平均得点','失点','平均失点','得失点差','打率','本塁打','盗塁','防御率'])\n",
    "    d1['year'] = year+2000\n",
    "    df = pd.concat([df,d1])"
   ]
  },
  {
   "cell_type": "code",
   "execution_count": 64,
   "metadata": {},
   "outputs": [],
   "source": [
    "import matplotlib.pyplot as plt\n",
    "import japanize_matplotlib"
   ]
  },
  {
   "cell_type": "code",
   "execution_count": 74,
   "metadata": {},
   "outputs": [
    {
     "data": {
      "image/png": "[encoded data removed]",
      "text/plain": [
       "<Figure size 1080x864 with 1 Axes>"
      ]
     },
     "metadata": {
      "needs_background": "light"
     },
     "output_type": "display_data"
    }
   ],
   "source": [
    "# プロット\n",
    "fig = plt.figure(figsize=(15, 12))\n",
    "ax = fig.add_subplot(111, xlabel='ピタゴラス勝率', ylabel='実際の勝率', xlim=(0.3,0.8), ylim=(0.3,0.8))\n",
    "\n",
    "ax.scatter(df['ptg'], df['勝率'], c='#FF7820')\n",
    "\n",
    "ax.plot([0,1], [0,1])\n",
    "\n",
    "ax.set_aspect('equal')\n",
    "\n",
    "fig.savefig('3-2_a.png')"
   ]
  },
  {
   "cell_type": "code",
   "execution_count": 141,
   "metadata": {},
   "outputs": [
    {
     "data": {
      "image/png": "[encoded data removed]",
      "text/plain": [
       "<Figure size 576x576 with 1 Axes>"
      ]
     },
     "metadata": {
      "needs_background": "light"
     },
     "output_type": "display_data"
    }
   ],
   "source": [
    "fig = plt.figure(figsize=(8, 8))\n",
    "ax = fig.add_subplot(111, xlabel='ピタゴラス勝率', ylabel='実際の勝率', xlim=(0.3,0.8), ylim=(0.3,0.8))\n",
    "\n",
    "for name, group in df.groupby('チーム'):\n",
    "    ax.scatter(group['ptg'], group['勝率'], c=colors[colors['チーム']==name]['color'].values[0], label=name)\n",
    "\n",
    "ax.plot([0,1], [0,1], linestyle = \"--\", c='lightgrey')\n",
    "\n",
    "ax.set_aspect('equal')\n",
    "ax.legend(fontsize=12)\n",
    "ax.set_xlabel('ピタゴラス勝率', size=15)\n",
    "ax.set_ylabel('実際の勝率', size=15)\n",
    "plt.tick_params(labelsize=15)\n",
    "fig.savefig('ptg1.png')"
   ]
  },
  {
   "cell_type": "code",
   "execution_count": 129,
   "metadata": {},
   "outputs": [],
   "source": [
    "df['dif']=abs(df['勝率']-df['ptg'])"
   ]
  },
  {
   "cell_type": "code",
   "execution_count": 135,
   "metadata": {},
   "outputs": [],
   "source": [
    "difmax = df['dif'].idxmax()"
   ]
  },
  {
   "cell_type": "code",
   "execution_count": 102,
   "metadata": {},
   "outputs": [
    {
     "name": "stdout",
     "output_type": "stream",
     "text": [
      "ソフトバンク    10\n",
      "阪神        10\n",
      "横浜        10\n",
      "巨人        10\n",
      "ヤクルト      10\n",
      "西武        10\n",
      "日本ハム      10\n",
      "広島        10\n",
      "ロッテ       10\n",
      "楽天        10\n",
      "中日        10\n",
      "オリックス     10\n",
      "Name: チーム, dtype: int64\n"
     ]
    }
   ],
   "source": [
    "print(df['チーム'].value_counts())"
   ]
  },
  {
   "cell_type": "code",
   "execution_count": 101,
   "metadata": {},
   "outputs": [],
   "source": [
    "df.replace('DeNA','横浜',inplace=True)"
   ]
  },
  {
   "cell_type": "code",
   "execution_count": 134,
   "metadata": {},
   "outputs": [],
   "source": [
    "df.reset_index(inplace=True, drop=True)"
   ]
  },
  {
   "cell_type": "code",
   "execution_count": 89,
   "metadata": {},
   "outputs": [
    {
     "name": "stdout",
     "output_type": "stream",
     "text": [
      "      チーム     勝率       ptg  year\n",
      "0      中日  0.560  0.510855  2011\n",
      "1    ヤクルト  0.543  0.479765  2011\n",
      "2      巨人  0.534  0.560587  2011\n",
      "3      阪神  0.493  0.542087  2011\n",
      "4      広島  0.441  0.439263  2011\n",
      "..    ...    ...       ...   ...\n",
      "1     ロッテ  0.513  0.480858  2020\n",
      "2      西武  0.500  0.437622  2020\n",
      "3      楽天  0.491  0.532403  2020\n",
      "4    日本ハム  0.461  0.465760  2020\n",
      "5   オリックス  0.398  0.436696  2020\n",
      "\n",
      "[120 rows x 4 columns]\n"
     ]
    }
   ],
   "source": [
    "print(df)"
   ]
  },
  {
   "cell_type": "code",
   "execution_count": 136,
   "metadata": {},
   "outputs": [],
   "source": [
    "df.to_csv('df.csv')"
   ]
  },
  {
   "cell_type": "code",
   "execution_count": null,
   "metadata": {},
   "outputs": [],
   "source": []
  }
 ],
 "metadata": {
  "kernelspec": {
   "display_name": "Python 3",
   "language": "python",
   "name": "python3"
  },
  "language_info": {
   "codemirror_mode": {
    "name": "ipython",
    "version": 3
   },
   "file_extension": ".py",
   "mimetype": "text/x-python",
   "name": "python",
   "nbconvert_exporter": "python",
   "pygments_lexer": "ipython3",
   "version": "3.7.9"
  }
 },
 "nbformat": 4,
 "nbformat_minor": 4
}
