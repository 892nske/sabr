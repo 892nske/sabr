{
 "cells": [
  {
   "cell_type": "code",
   "execution_count": 77,
   "id": "e3e9bd94-c08f-4c1b-8cf9-b942f732a660",
   "metadata": {},
   "outputs": [],
   "source": [
    "import pandas as pd\n",
    "from urllib.request import urlopen\n",
    "from bs4 import BeautifulSoup"
   ]
  },
  {
   "cell_type": "code",
   "execution_count": 171,
   "id": "689c324a-7392-48df-94b8-14df02530bd3",
   "metadata": {},
   "outputs": [],
   "source": [
    "def tablepd(table):\n",
    "    rows = table.findAll(\"tr\")\n",
    "    columns=list(range(len(rows[0])))\n",
    "    df = pd.DataFrame(columns=columns)\n",
    "    for i in range(len(rows)):\n",
    "        tds = rows[i].find_all('td')\n",
    "        if len(tds) == len(columns):\n",
    "            values = [ td.text.replace('\\n', '').replace('\\xa0', ' ') for td in tds ]\n",
    "            df = df.append(pd.Series(values, index=columns), ignore_index= True)\n",
    "    \n",
    "    return df"
   ]
  },
  {
   "cell_type": "code",
   "execution_count": 172,
   "id": "3d495e05-ae25-4384-ab8f-a47b1716ce99",
   "metadata": {},
   "outputs": [],
   "source": [
    "def yeargames(year,leage):\n",
    "    url='https://npb.jp/bis/yearly/{}league_{}.html'.format(leage,year)\n",
    "    columns=['team','game','win','lose','draw','emp','winrate','gamedif']\n",
    "    \n",
    "    html = urlopen(url)\n",
    "    soup = BeautifulSoup(html, \"html.parser\")\n",
    "    table = soup.findAll(\"table\")[2]\n",
    "    table2 = table.findAll(\"table\")[0]\n",
    "    \n",
    "    df=tablepd(table2)\n",
    "    df.columns=['team','game','win','lose','draw','emp','winrate','gamedif']\n",
    "    \n",
    "    df['year']=year\n",
    "    df['leage']=leage\n",
    "    return df"
   ]
  },
  {
   "cell_type": "code",
   "execution_count": 186,
   "id": "592f8eb7-b8a2-4972-a3e8-0257ecc0e43a",
   "metadata": {},
   "outputs": [],
   "source": [
    "url='https://npb.jp/bis/yearly/'\n",
    "html = urlopen(url)\n",
    "soup = BeautifulSoup(html, \"html.parser\")\n",
    "table = soup.findAll(\"table\")[1]"
   ]
  },
  {
   "cell_type": "code",
   "execution_count": 192,
   "id": "ca5b69bd-961e-484f-9187-860bcd4b2ed8",
   "metadata": {},
   "outputs": [],
   "source": [
    "champsdf=pd.DataFrame(columns=['year','centralchamp','centralteam','pacificchamp','pacificteam'])\n",
    "k=0\n",
    "for i in range(8):\n",
    "    ytb=table.findAll(\"table\")[k]\n",
    "    ctb=table.findAll(\"table\")[k+1]\n",
    "    ptb=table.findAll(\"table\")[k+3]\n",
    "    \n",
    "    ydf=tablepd(ytb)\n",
    "    ydf.columns=['year']\n",
    "    cdf=tablepd(ctb)\n",
    "    cdf.columns=['centralchamp','centralteam']\n",
    "    pdf=tablepd(ptb)\n",
    "    pdf.columns=['pacificchamp','pacificteam']\n",
    "    df_concat = pd.concat([ydf, cdf],axis=1)\n",
    "    df_concat = pd.concat([df_concat, pdf],axis=1)\n",
    "    \n",
    "    champsdf = pd.concat([champsdf, df_concat],axis=0)\n",
    "    \n",
    "    k=k+4"
   ]
  },
  {
   "cell_type": "code",
   "execution_count": 193,
   "id": "b06a6c4e-1f65-4343-ab63-3702b3c7dc55",
   "metadata": {},
   "outputs": [],
   "source": [
    "champsdf.loc[champsdf['year'] == '2007',['centralchamp','centralteam']]=['*','中日ドラゴンズ']\n",
    "champsdf.loc[champsdf['year'] == '2010',['pacificchamp','pacificteam']]=['*','千葉ロッテマリーンズ']\n",
    "champsdf.loc[champsdf['year'] == '2018',['pacificchamp','pacificteam']]=['*','福岡ソフトバンクホークス']\n",
    "champsdf.loc[champsdf['year'] == '2019',['pacificchamp','pacificteam']]=['*','福岡ソフトバンクホークス']"
   ]
  },
  {
   "cell_type": "code",
   "execution_count": 194,
   "id": "228d3101-0cb7-4623-b234-1b25d786ed75",
   "metadata": {},
   "outputs": [],
   "source": [
    "champsdf.loc[champsdf['year'] == '2014',['centralchamp','centralteam']]=['','阪神タイガース']\n",
    "champsdf.loc[champsdf['year'] == '2017',['centralchamp','centralteam']]=['','横浜DeNAベイスターズ']"
   ]
  },
  {
   "cell_type": "code",
   "execution_count": null,
   "id": "db93cdc2-18f5-4257-ad77-df39f7521b5b",
   "metadata": {},
   "outputs": [],
   "source": []
  }
 ],
 "metadata": {
  "kernelspec": {
   "display_name": "Python 3 (ipykernel)",
   "language": "python",
   "name": "python3"
  },
  "language_info": {
   "codemirror_mode": {
    "name": "ipython",
    "version": 3
   },
   "file_extension": ".py",
   "mimetype": "text/x-python",
   "name": "python",
   "nbconvert_exporter": "python",
   "pygments_lexer": "ipython3",
   "version": "3.8.12"
  }
 },
 "nbformat": 4,
 "nbformat_minor": 5
}
